{
 "cells": [
  {
   "cell_type": "code",
   "execution_count": 3,
   "metadata": {},
   "outputs": [
    {
     "data": {
      "text/plain": [
       "['RUUU', 'URUU', 'UURU', 'UUUR']"
      ]
     },
     "execution_count": 3,
     "metadata": {},
     "output_type": "execute_result"
    }
   ],
   "source": [
    "def walks (a , b , x , y ) :\n",
    "   if a == x :\n",
    "     return ['U' * (y - b ) ]\n",
    "   if b == y :\n",
    "     return ['R' * (x - a ) ]\n",
    "   W = []\n",
    "   for w in walks ( a +1 , b , x , y ) :\n",
    "     W . append ('R' + w )\n",
    "   for w in walks (a , b +1 , x , y ) :\n",
    "     W . append ('U' + w )\n",
    "   return W\n",
    "walks (2 , 1 , 3 , 4 )"
   ]
  }
 ],
 "metadata": {
  "kernelspec": {
   "display_name": "Python 3",
   "language": "python",
   "name": "python3"
  },
  "language_info": {
   "codemirror_mode": {
    "name": "ipython",
    "version": 3
   },
   "file_extension": ".py",
   "mimetype": "text/x-python",
   "name": "python",
   "nbconvert_exporter": "python",
   "pygments_lexer": "ipython3",
   "version": "3.11.4"
  },
  "orig_nbformat": 4
 },
 "nbformat": 4,
 "nbformat_minor": 2
}
