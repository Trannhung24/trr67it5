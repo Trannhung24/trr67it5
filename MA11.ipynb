{
 "cells": [
  {
   "cell_type": "code",
   "execution_count": 4,
   "metadata": {},
   "outputs": [],
   "source": [
    "#hoan vi\n",
    "def permutations ( a ) :\n",
    " n = len ( a )\n",
    " if n == 1:\n",
    "     return [ a ]\n",
    " P = []\n",
    " for i in range ( n ) :\n",
    "     b = a . copy ()\n",
    "     x = b . pop ( i )\n",
    "     for p in permutations ( b ) :\n",
    "         p = [ x ] + p\n",
    "         P . append ( p )\n",
    " return P\n"
   ]
  },
  {
   "cell_type": "code",
   "execution_count": 7,
   "metadata": {},
   "outputs": [
    {
     "data": {
      "text/plain": [
       "[[2, 4], [4, 2]]"
      ]
     },
     "execution_count": 7,
     "metadata": {},
     "output_type": "execute_result"
    }
   ],
   "source": [
    "permutations ([2 ,4]) "
   ]
  }
 ],
 "metadata": {
  "kernelspec": {
   "display_name": "Python 3",
   "language": "python",
   "name": "python3"
  },
  "language_info": {
   "codemirror_mode": {
    "name": "ipython",
    "version": 3
   },
   "file_extension": ".py",
   "mimetype": "text/x-python",
   "name": "python",
   "nbconvert_exporter": "python",
   "pygments_lexer": "ipython3",
   "version": "3.11.4"
  },
  "orig_nbformat": 4
 },
 "nbformat": 4,
 "nbformat_minor": 2
}
