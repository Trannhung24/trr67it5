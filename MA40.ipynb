{
 "cells": [
  {
   "cell_type": "code",
   "execution_count": 5,
   "metadata": {},
   "outputs": [
    {
     "ename": "ParseException",
     "evalue": "Expected nested () expression, found '>'  (at char 8), (line:1, col:9)",
     "output_type": "error",
     "traceback": [
      "\u001b[1;31m---------------------------------------------------------------------------\u001b[0m",
      "\u001b[1;31mParseException\u001b[0m                            Traceback (most recent call last)",
      "Cell \u001b[1;32mIn[5], line 5\u001b[0m\n\u001b[0;32m      1\u001b[0m table \u001b[39m=\u001b[39m ttg\u001b[39m.\u001b[39mTruths (\n\u001b[0;32m      2\u001b[0m     [\u001b[39m'\u001b[39m\u001b[39mp\u001b[39m\u001b[39m'\u001b[39m, \u001b[39m'\u001b[39m\u001b[39mq\u001b[39m\u001b[39m'\u001b[39m, \u001b[39m'\u001b[39m\u001b[39mr\u001b[39m\u001b[39m'\u001b[39m] ,\n\u001b[0;32m      3\u001b[0m     [\u001b[39m'\u001b[39m\u001b[39mp = > (~q and r) or False \u001b[39m\u001b[39m'\u001b[39m]\n\u001b[0;32m      4\u001b[0m ) \n\u001b[1;32m----> 5\u001b[0m \u001b[39mprint\u001b[39;49m(table)\n",
      "File \u001b[1;32mc:\\Python_VSCode_TU\\Lib\\site-packages\\ttg\\ttg.py:253\u001b[0m, in \u001b[0;36mTruths.__str__\u001b[1;34m(self)\u001b[0m\n\u001b[0;32m    252\u001b[0m \u001b[39mdef\u001b[39;00m \u001b[39m__str__\u001b[39m(\u001b[39mself\u001b[39m):\n\u001b[1;32m--> 253\u001b[0m     table \u001b[39m=\u001b[39m Truths\u001b[39m.\u001b[39;49mas_tabulate(\u001b[39mself\u001b[39;49m, index\u001b[39m=\u001b[39;49m\u001b[39mFalse\u001b[39;49;00m)\n\u001b[0;32m    254\u001b[0m     \u001b[39mreturn\u001b[39;00m \u001b[39mstr\u001b[39m(table)\n",
      "File \u001b[1;32mc:\\Python_VSCode_TU\\Lib\\site-packages\\ttg\\ttg.py:224\u001b[0m, in \u001b[0;36mTruths.as_tabulate\u001b[1;34m(self, index, table_format, align)\u001b[0m\n\u001b[0;32m    220\u001b[0m \u001b[39mdef\u001b[39;00m \u001b[39mas_tabulate\u001b[39m(\u001b[39mself\u001b[39m, index\u001b[39m=\u001b[39m\u001b[39mTrue\u001b[39;00m, table_format\u001b[39m=\u001b[39m\u001b[39m'\u001b[39m\u001b[39mpsql\u001b[39m\u001b[39m'\u001b[39m, align\u001b[39m=\u001b[39m\u001b[39m'\u001b[39m\u001b[39mcenter\u001b[39m\u001b[39m'\u001b[39m):\n\u001b[0;32m    221\u001b[0m \u001b[39m    \u001b[39m\u001b[39m\"\"\"\u001b[39;00m\n\u001b[0;32m    222\u001b[0m \u001b[39m    Returns table using tabulate package\u001b[39;00m\n\u001b[0;32m    223\u001b[0m \u001b[39m    \"\"\"\u001b[39;00m\n\u001b[1;32m--> 224\u001b[0m     table \u001b[39m=\u001b[39m tabulate(Truths\u001b[39m.\u001b[39;49mas_pandas(\u001b[39mself\u001b[39;49m),\n\u001b[0;32m    225\u001b[0m                      headers\u001b[39m=\u001b[39m\u001b[39m'\u001b[39m\u001b[39mkeys\u001b[39m\u001b[39m'\u001b[39m,\n\u001b[0;32m    226\u001b[0m                      tablefmt\u001b[39m=\u001b[39mtable_format,\n\u001b[0;32m    227\u001b[0m                      showindex\u001b[39m=\u001b[39mindex,\n\u001b[0;32m    228\u001b[0m                      colalign\u001b[39m=\u001b[39m[align] \u001b[39m*\u001b[39m (\u001b[39mlen\u001b[39m(Truths\u001b[39m.\u001b[39mas_pandas(\u001b[39mself\u001b[39m)\u001b[39m.\u001b[39mcolumns) \u001b[39m+\u001b[39m index)  \u001b[39m# NOQA long\u001b[39;00m\n\u001b[0;32m    229\u001b[0m                      )\n\u001b[0;32m    230\u001b[0m     \u001b[39mreturn\u001b[39;00m table\n",
      "File \u001b[1;32mc:\\Python_VSCode_TU\\Lib\\site-packages\\ttg\\ttg.py:216\u001b[0m, in \u001b[0;36mTruths.as_pandas\u001b[1;34m(self)\u001b[0m\n\u001b[0;32m    214\u001b[0m df \u001b[39m=\u001b[39m pd\u001b[39m.\u001b[39mDataFrame(columns\u001b[39m=\u001b[39mdf_columns)\n\u001b[0;32m    215\u001b[0m \u001b[39mfor\u001b[39;00m conditions_set \u001b[39min\u001b[39;00m \u001b[39mself\u001b[39m\u001b[39m.\u001b[39mbase_conditions:\n\u001b[1;32m--> 216\u001b[0m     df\u001b[39m.\u001b[39mloc[\u001b[39mlen\u001b[39m(df)] \u001b[39m=\u001b[39m \u001b[39mself\u001b[39;49m\u001b[39m.\u001b[39;49mcalculate(\u001b[39m*\u001b[39;49mconditions_set)\n\u001b[0;32m    217\u001b[0m df\u001b[39m.\u001b[39mindex \u001b[39m=\u001b[39m np\u001b[39m.\u001b[39marange(\u001b[39m1\u001b[39m, \u001b[39mlen\u001b[39m(df) \u001b[39m+\u001b[39m \u001b[39m1\u001b[39m)  \u001b[39m# index starting in one\u001b[39;00m\n\u001b[0;32m    218\u001b[0m \u001b[39mreturn\u001b[39;00m df\n",
      "File \u001b[1;32mc:\\Python_VSCode_TU\\Lib\\site-packages\\ttg\\ttg.py:185\u001b[0m, in \u001b[0;36mTruths.calculate\u001b[1;34m(self, *args)\u001b[0m\n\u001b[0;32m    183\u001b[0m phrase \u001b[39m=\u001b[39m \u001b[39m'\u001b[39m\u001b[39m(\u001b[39m\u001b[39m'\u001b[39m \u001b[39m+\u001b[39m phrase \u001b[39m+\u001b[39m \u001b[39m'\u001b[39m\u001b[39m)\u001b[39m\u001b[39m'\u001b[39m\n\u001b[0;32m    184\u001b[0m \u001b[39m# parse the expression using pyparsing\u001b[39;00m\n\u001b[1;32m--> 185\u001b[0m interpreted \u001b[39m=\u001b[39m \u001b[39mself\u001b[39;49m\u001b[39m.\u001b[39;49mparens\u001b[39m.\u001b[39;49mparseString(phrase)\u001b[39m.\u001b[39masList()[\u001b[39m0\u001b[39m]\n\u001b[0;32m    186\u001b[0m \u001b[39m# convert any 'True' or 'False' to boolean values\u001b[39;00m\n\u001b[0;32m    187\u001b[0m interpreted \u001b[39m=\u001b[39m recursive_map(string_to_bool, interpreted)\n",
      "File \u001b[1;32mc:\\Python_VSCode_TU\\Lib\\site-packages\\pyparsing\\util.py:256\u001b[0m, in \u001b[0;36m_make_synonym_function.<locals>._inner\u001b[1;34m(self, *args, **kwargs)\u001b[0m\n\u001b[0;32m    251\u001b[0m \u001b[39m@wraps\u001b[39m(fn)\n\u001b[0;32m    252\u001b[0m \u001b[39mdef\u001b[39;00m \u001b[39m_inner\u001b[39m(\u001b[39mself\u001b[39m, \u001b[39m*\u001b[39margs, \u001b[39m*\u001b[39m\u001b[39m*\u001b[39mkwargs):\n\u001b[0;32m    253\u001b[0m     \u001b[39m# warnings.warn(\u001b[39;00m\n\u001b[0;32m    254\u001b[0m     \u001b[39m#     f\"Deprecated - use {fn.__name__}\", DeprecationWarning, stacklevel=3\u001b[39;00m\n\u001b[0;32m    255\u001b[0m     \u001b[39m# )\u001b[39;00m\n\u001b[1;32m--> 256\u001b[0m     \u001b[39mreturn\u001b[39;00m fn(\u001b[39mself\u001b[39;49m, \u001b[39m*\u001b[39;49margs, \u001b[39m*\u001b[39;49m\u001b[39m*\u001b[39;49mkwargs)\n",
      "File \u001b[1;32mc:\\Python_VSCode_TU\\Lib\\site-packages\\pyparsing\\core.py:1190\u001b[0m, in \u001b[0;36mParserElement.parse_string\u001b[1;34m(self, instring, parse_all, parseAll)\u001b[0m\n\u001b[0;32m   1187\u001b[0m         \u001b[39mraise\u001b[39;00m\n\u001b[0;32m   1188\u001b[0m     \u001b[39melse\u001b[39;00m:\n\u001b[0;32m   1189\u001b[0m         \u001b[39m# catch and re-raise exception from here, clearing out pyparsing internal stack trace\u001b[39;00m\n\u001b[1;32m-> 1190\u001b[0m         \u001b[39mraise\u001b[39;00m exc\u001b[39m.\u001b[39mwith_traceback(\u001b[39mNone\u001b[39;00m)\n\u001b[0;32m   1191\u001b[0m \u001b[39melse\u001b[39;00m:\n\u001b[0;32m   1192\u001b[0m     \u001b[39mreturn\u001b[39;00m tokens\n",
      "\u001b[1;31mParseException\u001b[0m: Expected nested () expression, found '>'  (at char 8), (line:1, col:9)"
     ]
    }
   ],
   "source": [
    "\n",
    "table = ttg.Truths (\n",
    "    ['p', 'q', 'r'] ,\n",
    "    ['p = > (~q and r) or False ']\n",
    ") \n",
    "print(table)"
   ]
  },
  {
   "cell_type": "code",
   "execution_count": 2,
   "metadata": {},
   "outputs": [],
   "source": [
    "import ttg"
   ]
  }
 ],
 "metadata": {
  "kernelspec": {
   "display_name": "Python 3",
   "language": "python",
   "name": "python3"
  },
  "language_info": {
   "codemirror_mode": {
    "name": "ipython",
    "version": 3
   },
   "file_extension": ".py",
   "mimetype": "text/x-python",
   "name": "python",
   "nbconvert_exporter": "python",
   "pygments_lexer": "ipython3",
   "version": "3.11.4"
  },
  "orig_nbformat": 4
 },
 "nbformat": 4,
 "nbformat_minor": 2
}
